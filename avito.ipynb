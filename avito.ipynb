{
 "cells": [
  {
   "cell_type": "code",
   "execution_count": 167,
   "metadata": {},
   "outputs": [],
   "source": [
    "import requests\n",
    "import time\n",
    "import random\n",
    "time.sleep(random.randint(1, 5))"
   ]
  },
  {
   "cell_type": "code",
   "execution_count": 86,
   "metadata": {},
   "outputs": [],
   "source": [
    "from bs4 import BeautifulSoup as BS"
   ]
  },
  {
   "cell_type": "code",
   "execution_count": 87,
   "metadata": {},
   "outputs": [],
   "source": [
    "def get_soup(url):\n",
    "    req = requests.get(url)\n",
    "    html = req.text\n",
    "    soup = BS(html, 'lxml')\n",
    "    return soup"
   ]
  },
  {
   "cell_type": "code",
   "execution_count": 88,
   "metadata": {},
   "outputs": [],
   "source": [
    "def get_text(soup):\n",
    "    info = []\n",
    "    span = soup.find_all('span', attrs={'class':['title-info-title-text', 'item-map-address', \n",
    "                                               'price-value-string js-price-value-string']})\n",
    "    div = soup.find_all('div', attrs={'class':['title-info-metadata-item',\n",
    "                                               'item-description-text', 'item-params', 'seller-info-name',\n",
    "                                                'seller-info-rating', 'seller-info-value']})\n",
    "    for d in div:\n",
    "        info.append(d.get_text())\n",
    "    for s in span:\n",
    "        info.append(s.get_text())\n",
    "    info = set([i.strip().replace('\\\\xa0', ' ') for i in info])\n",
    "    info = '\\n'.join(info)\n",
    "    return info\n",
    "    "
   ]
  },
  {
   "cell_type": "code",
   "execution_count": 89,
   "metadata": {},
   "outputs": [],
   "source": [
    "def write_to_file(info, url):\n",
    "    path = 'D://avito/' + url + '.txt'\n",
    "    with open(path, 'w', encoding='utf-8') as file:\n",
    "        file.write(info)"
   ]
  },
  {
   "cell_type": "code",
   "execution_count": 195,
   "metadata": {},
   "outputs": [],
   "source": [
    "urls = []\n",
    "for i in range(1, 31):\n",
    "    base_url = 'https://www.avito.ru/moskva/odezhda_obuv_aksessuary?p=' + str(i)\n",
    "    base_soup = get_soup(base_url)\n",
    "#     print(base_soup)\n",
    "    for item in base_soup.find_all('h3', attrs={'class':'title item-description-title'}):\n",
    "        url = item.find('a').get('href')\n",
    "        root = 'https://www.avito.ru'\n",
    "        if not 'avito.ru' in url:\n",
    "            url =  root + url\n",
    "        urls.append(url)"
   ]
  },
  {
   "cell_type": "code",
   "execution_count": 196,
   "metadata": {},
   "outputs": [
    {
     "data": {
      "text/plain": [
       "1544"
      ]
     },
     "execution_count": 196,
     "metadata": {},
     "output_type": "execute_result"
    }
   ],
   "source": [
    "len(urls)"
   ]
  },
  {
   "cell_type": "code",
   "execution_count": 158,
   "metadata": {},
   "outputs": [
    {
     "name": "stdout",
     "output_type": "stream",
     "text": [
      "https://www.avito.ru/moskva/odezhda_obuv_aksessuary/plate_terani_couture_1712p2457_1113648824?slocation=637640\n",
      "https://www.avito.ru/moskva/odezhda_obuv_aksessuary/sumka_dorozhnaya_sportivnaya_brend_1305356547\n",
      "https://www.avito.ru/moskva/odezhda_obuv_aksessuary/puhovik_1250577054?slocation=637640\n",
      "https://www.avito.ru/moskva/odezhda_obuv_aksessuary/shuba_iz_strizh._b-ra_s_chernoburkoy._artikul_13199_805101069\n",
      "https://www.avito.ru/moskva/odezhda_obuv_aksessuary/botilony_dolcegabbana_original_1237918680?slocation=637640\n",
      "https://www.avito.ru/moskva/odezhda_obuv_aksessuary/kedy_na_tanketke_dkny_1342637608?slocation=637640\n",
      "https://www.avito.ru/moskva/odezhda_obuv_aksessuary/aeroflot_1197180491?slocation=637640\n",
      "https://www.avito.ru/moskva/odezhda_obuv_aksessuary/sumka_cambridge_original_1345498521?slocation=637640\n",
      "https://www.avito.ru/moskva/odezhda_obuv_aksessuary/sumochka_michael_kors_1707481309\n",
      "https://www.avito.ru/moskva/odezhda_obuv_aksessuary/novoe_plate_fornarina_552803958\n"
     ]
    }
   ],
   "source": [
    "for url in urls[:10]:\n",
    "    print(url)"
   ]
  },
  {
   "cell_type": "code",
   "execution_count": null,
   "metadata": {
    "scrolled": true
   },
   "outputs": [],
   "source": [
    "\n",
    "i = 0\n",
    "for url in urls[867:1000]:\n",
    "    soup = get_soup(url)\n",
    "#     print(soup)\n",
    "    inf = get_text(soup)\n",
    "#     print(inf)\n",
    "    url = url.replace('?slocation=', '')\n",
    "    url = url.replace('https://www.avito.ru/moskva/odezhda_obuv_aksessuary/', '')\n",
    "    url = url.replace('https://www.avito.ru/moskva_zelenograd/odezhda_obuv_aksessuary/', '')\n",
    "    if inf != []:\n",
    "        wtf = write_to_file(inf, url)\n",
    "        i += 1\n",
    "    else:\n",
    "        print('Break')\n",
    "        print(url)\n",
    "        print(i)\n",
    "        break\n"
   ]
  },
  {
   "cell_type": "code",
   "execution_count": null,
   "metadata": {},
   "outputs": [],
   "source": []
  }
 ],
 "metadata": {
  "kernelspec": {
   "display_name": "Python 3",
   "language": "python",
   "name": "python3"
  },
  "language_info": {
   "codemirror_mode": {
    "name": "ipython",
    "version": 3
   },
   "file_extension": ".py",
   "mimetype": "text/x-python",
   "name": "python",
   "nbconvert_exporter": "python",
   "pygments_lexer": "ipython3",
   "version": "3.6.4"
  }
 },
 "nbformat": 4,
 "nbformat_minor": 2
}
